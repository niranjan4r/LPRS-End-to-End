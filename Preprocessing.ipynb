{
 "cells": [
  {
   "cell_type": "code",
   "execution_count": 1,
   "id": "961213c6",
   "metadata": {},
   "outputs": [],
   "source": [
    "import cv2\n",
    "import numpy as np\n",
    "import os\n",
    "from PIL import Image\n",
    "from matplotlib import pyplot as plt"
   ]
  },
  {
   "cell_type": "code",
   "execution_count": 17,
   "id": "52cfd67b",
   "metadata": {},
   "outputs": [],
   "source": [
    "image = cv2.imread('C:/Users/niran/Desktop/Project/Test.jpg')\n",
    "gray = cv2.cvtColor(image, cv2.COLOR_BGR2GRAY)"
   ]
  },
  {
   "cell_type": "code",
   "execution_count": 18,
   "id": "06d5ced1",
   "metadata": {},
   "outputs": [],
   "source": [
    "clahe = cv2.createCLAHE(clipLimit=2.0, tileGridSize=(8, 8))\n",
    "equalized = cv2.equalizeHist(gray)\n",
    "clahe_img = clahe.apply(equalized)\n",
    "only_clahe = clahe.apply(gray)"
   ]
  },
  {
   "cell_type": "markdown",
   "id": "4145948b",
   "metadata": {},
   "source": [
    "Data preprocessing"
   ]
  },
  {
   "cell_type": "code",
   "execution_count": 2,
   "id": "9b3410d0",
   "metadata": {},
   "outputs": [],
   "source": [
    "def apply_preprocessing(image):\n",
    "    gray = cv2.cvtColor(image, cv2.COLOR_BGR2GRAY)\n",
    "    equalized = cv2.equalizeHist(gray)\n",
    "    clahe = cv2.createCLAHE(clipLimit=2.0, tileGridSize=(8, 8))\n",
    "    preprocessed_img = clahe.apply(equalized)\n",
    "    return preprocessed_img"
   ]
  },
  {
   "cell_type": "code",
   "execution_count": 3,
   "id": "c2b65455",
   "metadata": {},
   "outputs": [
    {
     "ename": "error",
     "evalue": "OpenCV(4.5.4-dev) D:\\a\\opencv-python\\opencv-python\\opencv\\modules\\highgui\\src\\window.cpp:1274: error: (-2:Unspecified error) The function is not implemented. Rebuild the library with Windows, GTK+ 2.x or Cocoa support. If you are on Ubuntu or Debian, install libgtk2.0-dev and pkg-config, then re-run cmake or configure script in function 'cvShowImage'\n",
     "output_type": "error",
     "traceback": [
      "\u001b[1;31m---------------------------------------------------------------------------\u001b[0m",
      "\u001b[1;31merror\u001b[0m                                     Traceback (most recent call last)",
      "\u001b[1;32m<ipython-input-3-c33cce892509>\u001b[0m in \u001b[0;36m<module>\u001b[1;34m\u001b[0m\n\u001b[0;32m      1\u001b[0m \u001b[0mimage\u001b[0m \u001b[1;33m=\u001b[0m \u001b[0mcv2\u001b[0m\u001b[1;33m.\u001b[0m\u001b[0mimread\u001b[0m\u001b[1;33m(\u001b[0m\u001b[1;34m'C:/Users/niran/Desktop/Project/Test.jpg'\u001b[0m\u001b[1;33m)\u001b[0m\u001b[1;33m\u001b[0m\u001b[1;33m\u001b[0m\u001b[0m\n\u001b[0;32m      2\u001b[0m \u001b[0moutput\u001b[0m \u001b[1;33m=\u001b[0m \u001b[0mapply_preprocessing\u001b[0m\u001b[1;33m(\u001b[0m\u001b[0mimage\u001b[0m\u001b[1;33m)\u001b[0m\u001b[1;33m\u001b[0m\u001b[1;33m\u001b[0m\u001b[0m\n\u001b[1;32m----> 3\u001b[1;33m \u001b[0mcv2\u001b[0m\u001b[1;33m.\u001b[0m\u001b[0mimshow\u001b[0m\u001b[1;33m(\u001b[0m\u001b[1;34m'Original image'\u001b[0m\u001b[1;33m,\u001b[0m \u001b[0mimage\u001b[0m\u001b[1;33m)\u001b[0m\u001b[1;33m\u001b[0m\u001b[1;33m\u001b[0m\u001b[0m\n\u001b[0m\u001b[0;32m      4\u001b[0m \u001b[0mcv2\u001b[0m\u001b[1;33m.\u001b[0m\u001b[0mimshow\u001b[0m\u001b[1;33m(\u001b[0m\u001b[1;34m'Preprocessed image'\u001b[0m\u001b[1;33m,\u001b[0m \u001b[0moutput\u001b[0m\u001b[1;33m)\u001b[0m\u001b[1;33m\u001b[0m\u001b[1;33m\u001b[0m\u001b[0m\n\u001b[0;32m      5\u001b[0m \u001b[0mcv2\u001b[0m\u001b[1;33m.\u001b[0m\u001b[0mwaitKey\u001b[0m\u001b[1;33m(\u001b[0m\u001b[1;36m0\u001b[0m\u001b[1;33m)\u001b[0m\u001b[1;33m\u001b[0m\u001b[1;33m\u001b[0m\u001b[0m\n",
      "\u001b[1;31merror\u001b[0m: OpenCV(4.5.4-dev) D:\\a\\opencv-python\\opencv-python\\opencv\\modules\\highgui\\src\\window.cpp:1274: error: (-2:Unspecified error) The function is not implemented. Rebuild the library with Windows, GTK+ 2.x or Cocoa support. If you are on Ubuntu or Debian, install libgtk2.0-dev and pkg-config, then re-run cmake or configure script in function 'cvShowImage'\n"
     ]
    }
   ],
   "source": [
    "image = cv2.imread('C:/Users/niran/Desktop/Project/Test.jpg')\n",
    "output = apply_preprocessing(image)\n",
    "cv2.imshow('Original image', image)\n",
    "cv2.imshow('Preprocessed image', output)\n",
    "cv2.waitKey(0)\n",
    "cv2.destroyAllWindows()"
   ]
  },
  {
   "cell_type": "markdown",
   "id": "67d8b4e8",
   "metadata": {},
   "source": [
    "# All images"
   ]
  },
  {
   "cell_type": "markdown",
   "id": "2abc33ec",
   "metadata": {},
   "source": [
    "Bug: input = 509 images, output = 503 images. i.e. 6 image names not unique."
   ]
  },
  {
   "cell_type": "code",
   "execution_count": 12,
   "id": "9e94d644",
   "metadata": {},
   "outputs": [],
   "source": [
    "list_of_directories = [\"./data/\"]"
   ]
  },
  {
   "cell_type": "code",
   "execution_count": 13,
   "id": "38e39f2b",
   "metadata": {},
   "outputs": [
    {
     "name": "stdout",
     "output_type": "stream",
     "text": [
      "Number of Images in Each Directory:\n",
      "./data/: 3\n",
      "Total number of images: 3\n"
     ]
    }
   ],
   "source": [
    "total_images = 0\n",
    "print(\"Number of Images in Each Directory:\")\n",
    "for directory in list_of_directories:\n",
    "    curr_images = len(os.listdir(directory))\n",
    "    print(f\"{directory}: {curr_images}\")\n",
    "    total_images += curr_images\n",
    "print(\"Total number of images: \" + str(total_images))"
   ]
  },
  {
   "cell_type": "code",
   "execution_count": 14,
   "id": "3527cad1",
   "metadata": {},
   "outputs": [],
   "source": [
    "def preprocess_images(ORIGIN_PATH):\n",
    "    DESTIN_PATH = \"./Preprocessed/\"\n",
    "    for filename in os.listdir(ORIGIN_PATH):\n",
    "        print(ORIGIN_PATH + filename)\n",
    "        try:\n",
    "            image = cv2.imread(ORIGIN_PATH + filename)\n",
    "            image = apply_preprocessing(image)\n",
    "            cv2.imwrite(DESTIN_PATH + filename, image)\n",
    "        except: \n",
    "            print(\"Failed: \" + DESTIN_PATH + filename)\n",
    "            continue"
   ]
  },
  {
   "cell_type": "code",
   "execution_count": 15,
   "id": "0895cd7e",
   "metadata": {},
   "outputs": [
    {
     "name": "stdout",
     "output_type": "stream",
     "text": [
      "./data/Test1.jpg\n",
      "./data/Test2.png\n",
      "./data/Test3.png\n"
     ]
    }
   ],
   "source": [
    "for directory in list_of_directories:\n",
    "    preprocess_images(directory)"
   ]
  },
  {
   "cell_type": "markdown",
   "id": "0ae2ce0e",
   "metadata": {},
   "source": [
    "Histogram"
   ]
  },
  {
   "cell_type": "code",
   "execution_count": 8,
   "id": "04cf14d8",
   "metadata": {},
   "outputs": [
    {
     "data": {
      "image/png": "[encoded data removed]",
      "text/plain": [
       "<Figure size 432x288 with 1 Axes>"
      ]
     },
     "metadata": {
      "needs_background": "light"
     },
     "output_type": "display_data"
    }
   ],
   "source": [
    "gray_img = cv2.imread('C:/Users/niran/Desktop/Project/Test.jpg', cv2.IMREAD_GRAYSCALE)\n",
    "cv2.imshow('Grey', gray_img)\n",
    "hist = cv2.calcHist([gray_img],[0],None,[256],[0,256])\n",
    "plt.hist(gray_img.ravel(),256,[0,256])\n",
    "plt.title('Histogram for gray scale picture')\n",
    "plt.show()\n",
    "\n",
    "while True:\n",
    "    k = cv2.waitKey(0) & 0xFF     \n",
    "    if k == 27: break             # ESC key to exit \n",
    "cv2.destroyAllWindows()"
   ]
  },
  {
   "cell_type": "code",
   "execution_count": 10,
   "id": "ae2b7307",
   "metadata": {},
   "outputs": [
    {
     "data": {
      "image/png": "[encoded data removed]",
      "text/plain": [
       "<Figure size 432x288 with 1 Axes>"
      ]
     },
     "metadata": {
      "needs_background": "light"
     },
     "output_type": "display_data"
    }
   ],
   "source": [
    "# Original\n",
    "image = cv2.imread('C:/Users/niran/Desktop/Project/Test.jpg')\n",
    "hist = cv2.calcHist([image],[0],None,[256],[0,256])\n",
    "plt.hist(image.ravel(),256,[0,256])\n",
    "plt.title('Histogram for original image')\n",
    "plt.show()"
   ]
  },
  {
   "cell_type": "code",
   "execution_count": 11,
   "id": "6c653870",
   "metadata": {},
   "outputs": [
    {
     "data": {
      "image/png": "[encoded data removed]",
      "text/plain": [
       "<Figure size 432x288 with 1 Axes>"
      ]
     },
     "metadata": {
      "needs_background": "light"
     },
     "output_type": "display_data"
    }
   ],
   "source": [
    "# Grey\n",
    "grey_img = cv2.cvtColor(image, cv2.COLOR_BGR2GRAY)\n",
    "hist = cv2.calcHist([grey_img],[0],None,[256],[0,256])\n",
    "plt.hist(grey_img.ravel(),256,[0,256])\n",
    "plt.title('Histogram for grey image')\n",
    "plt.show()"
   ]
  },
  {
   "cell_type": "code",
   "execution_count": 13,
   "id": "34fee766",
   "metadata": {},
   "outputs": [
    {
     "data": {
      "image/png": "[encoded data removed]",
      "text/plain": [
       "<Figure size 432x288 with 1 Axes>"
      ]
     },
     "metadata": {
      "needs_background": "light"
     },
     "output_type": "display_data"
    }
   ],
   "source": [
    "# CHE?\n",
    "equalized = cv2.equalizeHist(grey_img)\n",
    "hist = cv2.calcHist([equalized],[0],None,[256],[0,256])\n",
    "plt.hist(equalized.ravel(),256,[0,256])\n",
    "plt.title('Histogram for equalized image')\n",
    "plt.show()"
   ]
  },
  {
   "cell_type": "code",
   "execution_count": 15,
   "id": "015dcd5d",
   "metadata": {},
   "outputs": [
    {
     "data": {
      "image/png": "[encoded data removed]",
      "text/plain": [
       "<Figure size 432x288 with 1 Axes>"
      ]
     },
     "metadata": {
      "needs_background": "light"
     },
     "output_type": "display_data"
    }
   ],
   "source": [
    "# CLAHE\n",
    "clahe = cv2.createCLAHE(clipLimit=2.0, tileGridSize=(8, 8))\n",
    "clahe_img = clahe.apply(grey_img)\n",
    "hist = cv2.calcHist([clahe_img],[0],None,[256],[0,256])\n",
    "plt.hist(clahe_img.ravel(),256,[0,256])\n",
    "plt.title('Histogram for clahe_img image')\n",
    "plt.show()"
   ]
  },
  {
   "cell_type": "code",
   "execution_count": 16,
   "id": "43ddd0f2",
   "metadata": {},
   "outputs": [
    {
     "data": {
      "image/png": "[encoded data removed]",
      "text/plain": [
       "<Figure size 432x288 with 1 Axes>"
      ]
     },
     "metadata": {
      "needs_background": "light"
     },
     "output_type": "display_data"
    }
   ],
   "source": [
    "# ECHE + CLAHE\n",
    "clahe = cv2.createCLAHE(clipLimit=2.0, tileGridSize=(8, 8))\n",
    "preprocessed_img = clahe.apply(equalized)\n",
    "hist = cv2.calcHist([preprocessed_img],[0],None,[256],[0,256])\n",
    "plt.hist(preprocessed_img.ravel(),256,[0,256])\n",
    "plt.title('Histogram for preprocessed_img image')\n",
    "plt.show()"
   ]
  },
  {
   "cell_type": "code",
   "execution_count": 8,
   "id": "59110e40",
   "metadata": {},
   "outputs": [],
   "source": [
    "def apply_clahe(img):\n",
    "    clahe = cv2.createCLAHE(clipLimit=600.0, tileGridSize=(1, 1))\n",
    "    img_clahe = clahe.apply(img)\n",
    "    cv2.normalize(img_clahe, img_clahe, 0, 255, cv2.NORM_MINMAX)\n",
    "    img_en = cv2.convertScaleAbs(img_clahe)\n",
    "    return img_en"
   ]
  },
  {
   "cell_type": "code",
   "execution_count": null,
   "id": "5cf80201",
   "metadata": {},
   "outputs": [],
   "source": [
    "cv2.imshow('Original image', image)\n",
    "cv2.imshow('Gray image', gray)\n",
    "cv2.imshow('Equalized image', equalized)\n",
    "cv2.imshow('CLAHE image', clahe_img)\n",
    "cv2.imshow('ONLY CLAHE image', only_clahe)\n",
    "cv2.waitKey(0)\n",
    "cv2.destroyAllWindows()"
   ]
  },
  {
   "cell_type": "code",
   "execution_count": null,
   "id": "212d64e7",
   "metadata": {},
   "outputs": [],
   "source": []
  }
 ],
 "metadata": {
  "kernelspec": {
   "display_name": "Python 3",
   "language": "python",
   "name": "python3"
  },
  "language_info": {
   "codemirror_mode": {
    "name": "ipython",
    "version": 3
   },
   "file_extension": ".py",
   "mimetype": "text/x-python",
   "name": "python",
   "nbconvert_exporter": "python",
   "pygments_lexer": "ipython3",
   "version": "3.8.8"
  }
 },
 "nbformat": 4,
 "nbformat_minor": 5
}
