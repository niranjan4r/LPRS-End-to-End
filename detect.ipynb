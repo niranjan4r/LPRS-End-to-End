{
 "cells": [
  {
   "cell_type": "code",
   "execution_count": 2,
   "id": "167a76f7",
   "metadata": {},
   "outputs": [
    {
     "name": "stdout",
     "output_type": "stream",
     "text": [
      "Collecting torchvision\n",
      "  Using cached torchvision-0.11.1-cp38-cp38-win_amd64.whl (984 kB)\n",
      "Requirement already satisfied: torch==1.10.0 in c:\\users\\niran\\anaconda3\\lib\\site-packages (from torchvision) (1.10.0)\n",
      "Requirement already satisfied: numpy in c:\\users\\niran\\anaconda3\\lib\\site-packages (from torchvision) (1.19.5)\n",
      "Requirement already satisfied: pillow!=8.3.0,>=5.3.0 in c:\\users\\niran\\anaconda3\\lib\\site-packages (from torchvision) (8.2.0)\n",
      "Requirement already satisfied: typing-extensions in c:\\users\\niran\\anaconda3\\lib\\site-packages (from torch==1.10.0->torchvision) (3.7.4.3)\n",
      "Installing collected packages: torchvision\n",
      "Successfully installed torchvision-0.11.1\n"
     ]
    }
   ],
   "source": [
    "!pip install torchvision"
   ]
  },
  {
   "cell_type": "code",
   "execution_count": 3,
   "id": "f4de51df",
   "metadata": {},
   "outputs": [
    {
     "name": "stderr",
     "output_type": "stream",
     "text": [
      "\u001b[34m\u001b[1mdetect: \u001b[0mweights=['./best.pt'], source=./data/images/, imgsz=[640, 640], conf_thres=0.5, iou_thres=0.45, max_det=1000, device=, view_img=False, save_txt=False, save_conf=False, save_crop=True, nosave=False, classes=None, agnostic_nms=False, augment=False, visualize=False, update=False, project=runs\\detect, name=exp, exist_ok=False, line_thickness=3, hide_labels=False, hide_conf=False, half=False, dnn=False\n",
      "YOLOv5  2021-11-4 torch 1.10.0+cpu CPU\n",
      "\n",
      "Fusing layers... \n",
      "Model Summary: 232 layers, 7246518 parameters, 0 gradients\n",
      "image 1/3 C:\\Users\\niran\\Desktop\\Yolo\\data\\images\\Test1.png: 480x640 Done. (0.193s)\n",
      "image 2/3 C:\\Users\\niran\\Desktop\\Yolo\\data\\images\\Test2.png: 480x640 1 license-plate, Done. (0.177s)\n",
      "image 3/3 C:\\Users\\niran\\Desktop\\Yolo\\data\\images\\Test3.png: 480x640 1 license-plate, Done. (0.190s)\n",
      "Speed: 0.7ms pre-process, 186.8ms inference, 0.0ms NMS per image at shape (1, 3, 640, 640)\n",
      "Results saved to \u001b[1mruns\\detect\\exp2\u001b[0m\n"
     ]
    }
   ],
   "source": [
    "!python detect.py --weights ./best.pt --img 640 --conf 0.5 --source ./data/images/ --save-crop"
   ]
  },
  {
   "cell_type": "code",
   "execution_count": null,
   "id": "7d6b8ab7",
   "metadata": {},
   "outputs": [],
   "source": []
  }
 ],
 "metadata": {
  "kernelspec": {
   "display_name": "Python 3",
   "language": "python",
   "name": "python3"
  },
  "language_info": {
   "codemirror_mode": {
    "name": "ipython",
    "version": 3
   },
   "file_extension": ".py",
   "mimetype": "text/x-python",
   "name": "python",
   "nbconvert_exporter": "python",
   "pygments_lexer": "ipython3",
   "version": "3.8.8"
  }
 },
 "nbformat": 4,
 "nbformat_minor": 5
}
